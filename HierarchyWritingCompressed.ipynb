{
 "cells": [
  {
   "cell_type": "code",
   "execution_count": 339,
   "id": "f6b8cbf2",
   "metadata": {},
   "outputs": [],
   "source": [
    "import uproot, numpy as np\n",
    "import matplotlib.pyplot as plt\n",
    "import numpy.linalg as linalg\n",
    "from scipy import stats\n",
    "import random\n",
    "from numpy import linalg as LA\n",
    "from random import sample\n",
    "from sklearn.decomposition import PCA\n",
    "import pandas\n",
    "from scipy import signal\n",
    "from sklearn.linear_model import LinearRegression\n",
    "import shapely\n",
    "from termcolor import colored\n",
    "from shapely.geometry import LineString, Point\n",
    "class Events:\n",
    "    def __init__(self, filename, treename):\n",
    "        file = uproot.open(filename)\n",
    "        tree = file[treename]\n",
    "        self.u_x = tree[\"u_x\"].array(library=\"np\")\n",
    "        self.u_z = tree[\"u_z\"].array(library=\"np\")\n",
    "        self.u_energy = tree[\"u_energies\"].array(library=\"np\")\n",
    "        self.u_pi = tree[\"u_pi\"].array(library=\"np\")\n",
    "        self.vtx_u_z = tree[\"vtx_u_z\"].array(library=\"np\")\n",
    "        self.end_u_z = tree[\"end_u_z\"].array(library=\"np\")\n",
    "        self.v_x = tree[\"v_x\"].array(library=\"np\")\n",
    "        self.v_z = tree[\"v_z\"].array(library=\"np\")\n",
    "        self.v_energy = tree[\"v_energies\"].array(library=\"np\")\n",
    "        self.v_pi = tree[\"v_pi\"].array(library=\"np\")\n",
    "        self.vtx_v_z = tree[\"vtx_v_z\"].array(library=\"np\")\n",
    "        self.end_v_z = tree[\"end_v_z\"].array(library=\"np\")\n",
    "        self.w_x = tree[\"w_x\"].array(library=\"np\")\n",
    "        self.w_z = tree[\"w_z\"].array(library=\"np\")\n",
    "        self.w_energy = tree[\"w_energies\"].array(library=\"np\")\n",
    "        self.w_pi = tree[\"w_pi\"].array(library=\"np\")\n",
    "        self.vtx_w_z = tree[\"vtx_w_z\"].array(library=\"np\")\n",
    "        self.end_w_z = tree[\"end_w_z\"].array(library=\"np\")\n",
    "        self.event=tree[\"event\"].array(library=\"np\")\n",
    "        self.vtx_x = tree[\"vtx_x\"].array(library=\"np\")\n",
    "        self.end_x = tree[\"end_x\"].array(library=\"np\")\n",
    "        file.close()\n"
   ]
  },
  {
   "cell_type": "code",
   "execution_count": 340,
   "id": "51ccfd36",
   "metadata": {},
   "outputs": [],
   "source": [
    "events = Events(\"hierarchywriting_nue_306.root\", \"hierarchy_writing\")"
   ]
  },
  {
   "cell_type": "code",
   "execution_count": null,
   "id": "b87a2b42",
   "metadata": {},
   "outputs": [],
   "source": []
  },
  {
   "cell_type": "code",
   "execution_count": 341,
   "id": "81336956",
   "metadata": {},
   "outputs": [],
   "source": [
    "def event_display(n):\n",
    "    pion_events = events.w_pi[n]\n",
    "    pion_indices = np.where(pion_events==1)\n",
    "    not_pion_indices = np.where(pion_events!=1)\n",
    "    energy = events.u_energy[n]\n",
    "    pion_x = events.w_x[n][pion_indices]\n",
    "    pion_z = events.w_z[n][pion_indices]\n",
    "    x = events.w_x[n][not_pion_indices]\n",
    "    y = events.w_z[n][not_pion_indices]\n",
    "    pion_adc = events.w_energy[n][pion_indices]"
   ]
  },
  {
   "cell_type": "code",
   "execution_count": 342,
   "id": "b223c44a",
   "metadata": {},
   "outputs": [],
   "source": [
    "def track_split_300(n, number):\n",
    "    pfo_x = events.w_x[n]\n",
    "    pfo_z = events.w_z[n]\n",
    "    pca1=PCA(2)\n",
    "    total_hits = np.concatenate((pfo_x[:, None], pfo_z[:, None]), axis=1)\n",
    "    pca1.fit(total_hits)\n",
    "    pca1.mean_ = [events.vtx_x[n][0], events.vtx_w_z[n][0]]\n",
    "    Z = pca1.transform(total_hits)\n",
    "    end_x = events.end_x[n]\n",
    "    end_z = events.end_w_z[n] \n",
    "    \n",
    "    max_value = max(Z[:,0])\n",
    "    min_value = min(Z[:,0])\n",
    "    rad_length = 14\n",
    "    half_rad_length = rad_length/2\n",
    "    length = (max_value - min_value)\n",
    "    number_bins = np.int(np.ceil(length/half_rad_length))\n",
    "    maximum = number_bins*half_rad_length + min_value\n",
    "    bin_edges = np.linspace(min_value, maximum, number_bins +1)\n",
    "    bin_edges_fraction = (bin_edges/rad_length) \n",
    "    bin_indices = np.digitize(Z[:, 0], bin_edges) -1 \n",
    "    energy_array = events.w_energy[n]\n",
    "    energy_profile = np.zeros(number_bins)\n",
    "\n",
    "    for i in range(len(energy_array)):\n",
    "        index = bin_indices[i] \n",
    "        energy_profile[index]=energy_array[i]+energy_profile[index]\n",
    "    energy_profile = energy_profile[::-1]\n",
    "    \n",
    "    fractional_energy = energy_profile/sum(energy_profile)\n",
    "    \n",
    "    gradient = np.gradient(energy_profile)\n",
    "    \n",
    "    bin_number = np.int(np.ceil(len(gradient)/number))\n",
    "     \n",
    "    mean_grad = np.convolve(gradient, np.ones(number)/number, mode='valid')\n",
    "    mean_energy = np.convolve(fractional_energy, np.ones(number)/number, mode='valid')\n",
    "    \n",
    "    track_transition=[]\n",
    "\n",
    "    for p in range(len(mean_grad) - 2):\n",
    "        if mean_grad[p] < mean_grad[p+1] < mean_grad[p+2] and mean_grad[p+2] - mean_grad[p+1] > 300:\n",
    "            print(p) \n",
    "            track_transition.append(bin_edges_fraction[:-number][p+1])\n",
    "            \n",
    "    if not track_transition:\n",
    "        pass\n",
    "    else:\n",
    "        track_cut = track_transition[0]\n",
    "        bin_transition = track_cut * rad_length\n",
    "        shifted_track_cut = track_cut + abs(min(bin_edges_fraction))\n",
    "        \n",
    "    if not track_transition:\n",
    "        pass\n",
    "    else:\n",
    "        split_metric = []\n",
    "        end_PCA = pca1.transform([[end_x[0], end_z[0]]]) - min_value\n",
    "        shifted_Z = Z - min_value\n",
    "        track_start_x=(pca1.inverse_transform(bin_transition)[:, 0][0])\n",
    "        split_goodness = (abs(bin_transition) - abs(end_PCA))\n",
    "        split_metric.append(split_goodness)\n",
    "        return split_metric[0][0][0]"
   ]
  },
  {
   "cell_type": "code",
   "execution_count": null,
   "id": "bacac394",
   "metadata": {},
   "outputs": [],
   "source": []
  },
  {
   "cell_type": "code",
   "execution_count": null,
   "id": "1e660492",
   "metadata": {},
   "outputs": [],
   "source": []
  },
  {
   "cell_type": "code",
   "execution_count": null,
   "id": "a10e127b",
   "metadata": {},
   "outputs": [],
   "source": [
    "\n"
   ]
  },
  {
   "cell_type": "code",
   "execution_count": null,
   "id": "a7b991e7",
   "metadata": {},
   "outputs": [],
   "source": [
    "\n"
   ]
  },
  {
   "cell_type": "code",
   "execution_count": null,
   "id": "9f10e348",
   "metadata": {},
   "outputs": [],
   "source": []
  },
  {
   "cell_type": "code",
   "execution_count": null,
   "id": "8b911e38",
   "metadata": {},
   "outputs": [],
   "source": []
  },
  {
   "cell_type": "code",
   "execution_count": null,
   "id": "ba9b1bce",
   "metadata": {},
   "outputs": [],
   "source": []
  },
  {
   "cell_type": "code",
   "execution_count": null,
   "id": "732978b3",
   "metadata": {},
   "outputs": [],
   "source": []
  }
 ],
 "metadata": {
  "kernelspec": {
   "display_name": "Python 3",
   "language": "python",
   "name": "python3"
  },
  "language_info": {
   "codemirror_mode": {
    "name": "ipython",
    "version": 3
   },
   "file_extension": ".py",
   "mimetype": "text/x-python",
   "name": "python",
   "nbconvert_exporter": "python",
   "pygments_lexer": "ipython3",
   "version": "3.6.13"
  }
 },
 "nbformat": 4,
 "nbformat_minor": 5
}
